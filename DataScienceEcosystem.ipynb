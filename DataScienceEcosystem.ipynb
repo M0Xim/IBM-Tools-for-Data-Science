{
 "cells": [
  {
   "cell_type": "markdown",
   "id": "6b5058ab-1636-4823-a807-b05a2aacf631",
   "metadata": {},
   "source": [
    "# Data Science Tools and Ecosystem\n",
    "\n"
   ]
  },
  {
   "cell_type": "markdown",
   "id": "e4fdfd34-fcc0-49e5-ac2a-e2439d559f43",
   "metadata": {},
   "source": [
    "In this notebook, Data Science Tools and Ecosystem are summarized."
   ]
  },
  {
   "cell_type": "markdown",
   "id": "da8ce151-bb24-4d7e-96af-5a97e9f13779",
   "metadata": {},
   "source": [
    "**Objectives:**\n",
    "* List popular languages for Data Science\n",
    "* List 3 commonly used libraries by Data Scientists\n",
    "* Create a table of 3 open-source development environments\n"
   ]
  },
  {
   "cell_type": "markdown",
   "id": "a344872d-aae3-4c7d-b262-2f24399572d9",
   "metadata": {
    "tags": []
   },
   "source": [
    "## Author:\n",
    "Mohammad Kazem Zim"
   ]
  },
  {
   "cell_type": "markdown",
   "id": "df363024-d80b-4c24-a869-45d6e054bb46",
   "metadata": {},
   "source": [
    "Some of the popular languages that Data Scientists use are:\n",
    "1. Python\n",
    "2. R\n",
    "3. SQL"
   ]
  },
  {
   "cell_type": "markdown",
   "id": "1b000ba4-14ae-49c6-9c88-730432317f61",
   "metadata": {},
   "source": [
    "Some of the commonly used libraries used by Data Scientists include:\n",
    "1. Pandas\n",
    "2. NumPy\n",
    "3. Matplotlib\n"
   ]
  },
  {
   "cell_type": "markdown",
   "id": "94a03181-c530-46d6-acb7-234bc5f8172a",
   "metadata": {},
   "source": [
    "\n",
    "|Data Science Tools|\n",
    "|-|\n",
    "|Jupyter|\n",
    "|RStudio|\n",
    "|Spyder|"
   ]
  },
  {
   "cell_type": "markdown",
   "id": "3c840d5e-a2ab-4615-b0d6-3886f0172b8f",
   "metadata": {},
   "source": [
    "### Below are a few examples of evaluating arithmetic expressions in Python:\n"
   ]
  },
  {
   "cell_type": "code",
   "execution_count": 5,
   "id": "952d6569-f81c-42aa-8c19-41d37765859e",
   "metadata": {
    "tags": []
   },
   "outputs": [
    {
     "data": {
      "text/plain": [
       "17"
      ]
     },
     "execution_count": 5,
     "metadata": {},
     "output_type": "execute_result"
    }
   ],
   "source": [
    "# This is a simple arithmetic expression to multiply then add integers\n",
    "(3*4)+5"
   ]
  },
  {
   "cell_type": "code",
   "execution_count": 6,
   "id": "f3fb9711-72dc-42e2-9d53-4b707ba5a876",
   "metadata": {
    "tags": []
   },
   "outputs": [
    {
     "data": {
      "text/plain": [
       "3.3333333333333335"
      ]
     },
     "execution_count": 6,
     "metadata": {},
     "output_type": "execute_result"
    }
   ],
   "source": [
    "# This will convert 200 minutes to hours by dividing by 60.\n",
    "200/60"
   ]
  },
  {
   "cell_type": "code",
   "execution_count": null,
   "id": "332f93ff-e04d-4788-908e-5e13e71e47d6",
   "metadata": {},
   "outputs": [],
   "source": []
  }
 ],
 "metadata": {
  "kernelspec": {
   "display_name": "Python",
   "language": "python",
   "name": "conda-env-python-py"
  },
  "language_info": {
   "codemirror_mode": {
    "name": "ipython",
    "version": 3
   },
   "file_extension": ".py",
   "mimetype": "text/x-python",
   "name": "python",
   "nbconvert_exporter": "python",
   "pygments_lexer": "ipython3",
   "version": "3.7.12"
  }
 },
 "nbformat": 4,
 "nbformat_minor": 5
}
